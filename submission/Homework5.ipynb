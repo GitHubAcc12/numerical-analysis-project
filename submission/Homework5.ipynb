{
 "cells": [
  {
   "cell_type": "markdown",
   "metadata": {},
   "source": [
    "## Homework 5"
   ]
  },
  {
   "cell_type": "code",
   "execution_count": 1,
   "metadata": {
    "collapsed": true
   },
   "outputs": [],
   "source": [
    "import numpy as np\n",
    "import math"
   ]
  },
  {
   "cell_type": "markdown",
   "metadata": {},
   "source": [
    "#### Exercise 7"
   ]
  },
  {
   "cell_type": "code",
   "execution_count": 2,
   "metadata": {
    "collapsed": true
   },
   "outputs": [],
   "source": [
    "def euler(f, a, b, N=10, alpha=0):\n",
    "    h = (b-a)/N\n",
    "    t = a\n",
    "    w = alpha\n",
    "    points = []\n",
    "    for i in range(N+1):\n",
    "        w = w + h*f(t, w)\n",
    "        t = a + i*h\n",
    "        points.append((t, w))\n",
    "    return points"
   ]
  },
  {
   "cell_type": "code",
   "execution_count": 3,
   "metadata": {},
   "outputs": [
    {
     "name": "stdout",
     "output_type": "stream",
     "text": [
      "Approximation: \n",
      "[[ 1.          0.27182818]\n",
      " [ 1.1         0.598022  ]\n",
      " [ 1.2         1.07025736]\n",
      " [ 1.3         1.72673043]\n",
      " [ 1.4         2.6124924 ]\n",
      " [ 1.5         3.78052479]\n",
      " [ 1.6         5.29297481]\n",
      " [ 1.7         7.22257296]\n",
      " [ 1.8         9.65425822]\n",
      " [ 1.9        12.68703936]\n",
      " [ 2.         16.43612508]] \n",
      " Actual result: \n",
      "[[ 1.          0.        ]\n",
      " [ 1.1         0.34591988]\n",
      " [ 1.2         0.86664254]\n",
      " [ 1.3         1.60721508]\n",
      " [ 1.4         2.62035955]\n",
      " [ 1.5         3.96766629]\n",
      " [ 1.6         5.72096153]\n",
      " [ 1.7         7.96387348]\n",
      " [ 1.8        10.79362466]\n",
      " [ 1.9        14.32308154]\n",
      " [ 2.         18.68309708]]\n",
      "Errors: \n",
      "[[0.         0.27182818]\n",
      " [0.         0.25210213]\n",
      " [0.         0.20361483]\n",
      " [0.         0.11951535]\n",
      " [0.         0.00786715]\n",
      " [0.         0.1871415 ]\n",
      " [0.         0.42798672]\n",
      " [0.         0.74130052]\n",
      " [0.         1.13936644]\n",
      " [0.         1.63604218]\n",
      " [0.         2.246972  ]]\n",
      "Sum of errors: 7.2337369967194665\n"
     ]
    }
   ],
   "source": [
    "N = 10\n",
    "f = lambda t, y: 2*y/t + t**2 * math.exp(t)\n",
    "y = lambda t: t**2 * (math.exp(t) - math.e) \n",
    "approximation = np.array(euler(f, 1, 2, N=N, alpha=0))\n",
    "actual_result = np.array([(1+i*0.1, y(1+i*0.1)) for i in range(N+1)])\n",
    "errors = abs(approximation - actual_result)\n",
    "print(f'Approximation: \\n{approximation} \\n Actual result: \\n{actual_result}')\n",
    "print(f'Errors: \\n{errors}')\n",
    "print(f'Sum of errors: {sum(errors)[1]}')"
   ]
  },
  {
   "cell_type": "code",
   "execution_count": 4,
   "metadata": {
    "collapsed": true
   },
   "outputs": [],
   "source": [
    "\"\"\"\n",
    "    Input: 2 Points a and b in the form (x, y) and the position x at which to interpolate\n",
    "    Interpolates the point by creating a line between the given points and taking the y-value at x from the line.\n",
    "\"\"\"\n",
    "def linear_interpolation(a, b, x0):\n",
    "    m = (b[1] - a[1])/(b[0] - a[0]) # Slope of the line\n",
    "    b = a[1] - m*a[0] # get intercept from slope and one point\n",
    "    y = lambda x: m*x + b\n",
    "    return y(x0)"
   ]
  },
  {
   "cell_type": "code",
   "execution_count": 5,
   "metadata": {
    "scrolled": true
   },
   "outputs": [
    {
     "name": "stdout",
     "output_type": "stream",
     "text": [
      "Approximation for y(1.04)=0.40230571061193876\n",
      "Approximation for y(1.55)=4.53674980081059\n",
      "Approximation for y(1.97)=15.311399361962671\n"
     ]
    }
   ],
   "source": [
    "# i\n",
    "x0 = 1.04\n",
    "appr = linear_interpolation(approximation[0], approximation[1], x0)\n",
    "print(f'Approximation for y({x0})={appr}')\n",
    "\n",
    "# ii\n",
    "x0 = 1.55\n",
    "appr = linear_interpolation(approximation[5], approximation[6], x0)\n",
    "print(f'Approximation for y({x0})={appr}')\n",
    "\n",
    "# iii\n",
    "x0 = 1.97\n",
    "appr = linear_interpolation(approximation[9], approximation[10], x0)\n",
    "print(f'Approximation for y({x0})={appr}')"
   ]
  },
  {
   "cell_type": "markdown",
   "metadata": {},
   "source": [
    "#### Exercise 8"
   ]
  },
  {
   "cell_type": "code",
   "execution_count": 6,
   "metadata": {
    "collapsed": true
   },
   "outputs": [],
   "source": [
    "def taylor_eval(w0, w, N, exact=lambda *args: None):\n",
    "    res = [w0]\n",
    "    exact_res = [w0]\n",
    "    for i in range(1, N):\n",
    "        res.append(w(res[i-1], i))\n",
    "        exact_res.append(exact(i))\n",
    "    return res, exact_res"
   ]
  },
  {
   "cell_type": "code",
   "execution_count": 7,
   "metadata": {},
   "outputs": [
    {
     "name": "stdout",
     "output_type": "stream",
     "text": [
      "Approximated Result:\n",
      "[-2.         -1.77777778 -1.58573388 -1.4588846 ]\n",
      "Exact Result:\n",
      "[-2.         -1.5        -1.33333333 -1.25      ]\n",
      "Errors:\n",
      "[0.         0.27777778 0.25240055 0.2088846 ]\n"
     ]
    }
   ],
   "source": [
    "w = lambda w0, i: w0 + 0.5*( (w0**2 + w0)/(1 + i*0.5) * ( 1 + w0 / (2*(1 + i*0.5)) ) )\n",
    "exact = lambda i: 2*(1 + i*0.5)/(1 - 2*(1+i*0.5))\n",
    "result, exact_res = taylor_eval(-2, w, 4, exact=exact)\n",
    "result = np.array(result)\n",
    "exact_res = np.array(exact_res)\n",
    "print(f'Approximated Result:\\n{result}\\nExact Result:\\n{exact_res}\\nErrors:\\n{abs(result - exact_res)}')"
   ]
  },
  {
   "cell_type": "markdown",
   "metadata": {},
   "source": [
    "#### Exercise 10"
   ]
  },
  {
   "cell_type": "code",
   "execution_count": 8,
   "metadata": {
    "collapsed": true
   },
   "outputs": [],
   "source": [
    "def backward_euler(w0, f, N=10, a=0, b=1, eps=10e-5, iterations=500):\n",
    "    h = (b-a)/N\n",
    "    res = [(0, w0)]\n",
    "    for i in range(1, N+1):\n",
    "        # Start Newton Iteration\n",
    "        w = f(res[i-1][1], res[i-1][1])\n",
    "        j = 0\n",
    "        while abs(w0 - w) > eps:\n",
    "            w0 = w\n",
    "            w = f(w, res[i-1][1])\n",
    "            j += 1\n",
    "            if j >= iterations:\n",
    "                print(f'Max iterations exceeded ({iterations})')\n",
    "                return\n",
    "        res.append((i*h, w))\n",
    "    return res"
   ]
  },
  {
   "cell_type": "code",
   "execution_count": 9,
   "metadata": {},
   "outputs": [
    {
     "name": "stdout",
     "output_type": "stream",
     "text": [
      "Actual Result:\n",
      "[[0.00000000e+00 2.71828183e+00]\n",
      " [1.00000000e-01 1.10517092e+00]\n",
      " [2.00000000e-01 4.49328964e-01]\n",
      " [3.00000000e-01 1.82683524e-01]\n",
      " [4.00000000e-01 7.42735782e-02]\n",
      " [5.00000000e-01 3.01973834e-02]\n",
      " [6.00000000e-01 1.22773399e-02]\n",
      " [7.00000000e-01 4.99159391e-03]\n",
      " [8.00000000e-01 2.02943064e-03]\n",
      " [9.00000000e-01 8.25104923e-04]\n",
      " [1.00000000e+00 3.35462628e-04]]\n",
      "\n",
      "Backward Euler Method:\n",
      "[[0.         2.71828183]\n",
      " [0.1        1.43067465]\n",
      " [0.2        0.75298666]\n",
      " [0.3        0.39630877]\n",
      " [0.4        0.20858356]\n",
      " [0.5        0.10978082]\n",
      " [0.6        0.05777938]\n",
      " [0.7        0.0304102 ]\n",
      " [0.8        0.01600537]\n",
      " [0.9        0.00842388]\n",
      " [1.         0.00443362]]\n",
      "\n",
      "Backward Euler Error:\n",
      "[[0.         0.        ]\n",
      " [0.         0.32550373]\n",
      " [0.         0.30365769]\n",
      " [0.         0.21362524]\n",
      " [0.         0.13430998]\n",
      " [0.         0.07958344]\n",
      " [0.         0.04550204]\n",
      " [0.         0.02541861]\n",
      " [0.         0.01397594]\n",
      " [0.         0.00759877]\n",
      " [0.         0.00409816]]\n",
      "Sum=1.153273598353276\n",
      "\n",
      "Euler Method:\n",
      "[[0.00000000e+00 2.71828183e-01]\n",
      " [1.00000000e-01 2.71828183e-02]\n",
      " [2.00000000e-01 2.71828183e-03]\n",
      " [3.00000000e-01 2.71828183e-04]\n",
      " [4.00000000e-01 2.71828183e-05]\n",
      " [5.00000000e-01 2.71828183e-06]\n",
      " [6.00000000e-01 2.71828183e-07]\n",
      " [7.00000000e-01 2.71828183e-08]\n",
      " [8.00000000e-01 2.71828183e-09]\n",
      " [9.00000000e-01 2.71828183e-10]\n",
      " [1.00000000e+00 2.71828183e-11]]\n",
      "\n",
      "Euler Error:\n",
      "[[0.00000000e+00 2.44645365e+00]\n",
      " [0.00000000e+00 1.07798810e+00]\n",
      " [0.00000000e+00 4.46610682e-01]\n",
      " [0.00000000e+00 1.82411696e-01]\n",
      " [0.00000000e+00 7.42463954e-02]\n",
      " [0.00000000e+00 3.01946651e-02]\n",
      " [0.00000000e+00 1.22770681e-02]\n",
      " [0.00000000e+00 4.99156672e-03]\n",
      " [0.00000000e+00 2.02942792e-03]\n",
      " [0.00000000e+00 8.25104651e-04]\n",
      " [0.00000000e+00 3.35462601e-04]]\n",
      "Sum=4.278363814068538\n",
      "\n"
     ]
    }
   ],
   "source": [
    "# Actual Result\n",
    "res = np.array([(0.1*i, math.exp(1-9*0.1*i)) for i in range(N+1)])\n",
    "print(f'Actual Result:\\n{res}')\n",
    "print()\n",
    "\n",
    "# Backward Euler\n",
    "f = lambda x, x0: x - (1.9*x - x0)/1.9\n",
    "w0 = math.e\n",
    "backward_euler_res = np.array(backward_euler(w0, f))\n",
    "print(f'Backward Euler Method:\\n{backward_euler_res}')\n",
    "print()\n",
    "b_e_error = np.array([abs(res[i] - backward_euler_res[i]) for i in range(N+1)])\n",
    "print(f'Backward Euler Error:\\n{b_e_error}\\nSum={sum(b_e_error)[1]}')\n",
    "print()\n",
    "\n",
    "# Euler\n",
    "f = lambda t, w: -9*w\n",
    "euler_res = np.array(euler(f, 0, 1, N=10, alpha=math.e))\n",
    "print(f'Euler Method:\\n{euler_res}')\n",
    "print()\n",
    "e_error = np.array([abs(res[i] - euler_res[i]) for i in range(N+1)])\n",
    "print(f'Euler Error:\\n{e_error}\\nSum={sum(e_error)[1]}')\n",
    "print()\n",
    "\n"
   ]
  },
  {
   "cell_type": "markdown",
   "metadata": {},
   "source": [
    "I am sorry for the unnecessary scientific notation, but it is still visible that, comparing the result of the Backward Euler Method and the Euler Method to the actual result, the Backward Euler Method is a lot closer to the actual result than the Euler Method. The Euler Method has larger absolute errors. Summing up all the errors from the data points, the Backward Euler Method has a total error of about 1.1533 whereas the Euler Method has a total error of about 4.2784, which is almost 3-4 times the error of the Backward Euler Method. A reason for this might be that this problem is laying outside of the region of stability of the Euler Method, which means that the absolute error of its results will keep increasing. Whereas the Backward Euler Method appears to be stable for this problem."
   ]
  }
 ],
 "metadata": {
  "kernelspec": {
   "display_name": "Python 3",
   "language": "python",
   "name": "python3"
  },
  "language_info": {
   "codemirror_mode": {
    "name": "ipython",
    "version": 3
   },
   "file_extension": ".py",
   "mimetype": "text/x-python",
   "name": "python",
   "nbconvert_exporter": "python",
   "pygments_lexer": "ipython3",
   "version": "3.6.1"
  }
 },
 "nbformat": 4,
 "nbformat_minor": 2
}
